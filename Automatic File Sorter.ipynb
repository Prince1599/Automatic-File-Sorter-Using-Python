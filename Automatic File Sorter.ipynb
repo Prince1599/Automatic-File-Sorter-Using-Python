{
 "cells": [
  {
   "cell_type": "markdown",
   "id": "32d4f05b",
   "metadata": {},
   "source": [
    "# Automatic File Sorter in File Explorer  \n",
    "To create a File Sorter using Python. This will allow us to automate the sorting of our files without having to drag and drop files into folders."
   ]
  },
  {
   "cell_type": "markdown",
   "id": "9cc07306",
   "metadata": {},
   "source": [
    "#### shutil is called \"shell utilities\" because it allows you to perform various file-related tasks that are similar to the commands that you might use in a Unix shell, such as copying, moving, renaming, and deleting files and directories."
   ]
  },
  {
   "cell_type": "code",
   "execution_count": 17,
   "id": "b2779646",
   "metadata": {},
   "outputs": [],
   "source": [
    "import os,shutil"
   ]
  },
  {
   "cell_type": "code",
   "execution_count": 25,
   "id": "47fbc7a5",
   "metadata": {},
   "outputs": [],
   "source": [
    "path = r\"B:/python Automatic File dataset/\""
   ]
  },
  {
   "cell_type": "code",
   "execution_count": 26,
   "id": "884811ff",
   "metadata": {},
   "outputs": [],
   "source": [
    "file_name = os.listdir(path)"
   ]
  },
  {
   "cell_type": "code",
   "execution_count": 27,
   "id": "84c4eff7",
   "metadata": {},
   "outputs": [
    {
     "name": "stdout",
     "output_type": "stream",
     "text": [
      "B:/python Automatic File dataset/csv files\n",
      "B:/python Automatic File dataset/image files\n",
      "B:/python Automatic File dataset/text files\n"
     ]
    }
   ],
   "source": [
    "folder_names = ['csv files','image files','text files']\n",
    "for loop in range(0,3):\n",
    "    if not os.path.exists(path + folder_names[loop]):\n",
    "        print(path + folder_names[loop])\n",
    "        os.makedirs((path + folder_names[loop]))\n",
    "    "
   ]
  },
  {
   "cell_type": "code",
   "execution_count": 28,
   "id": "935c8163",
   "metadata": {},
   "outputs": [],
   "source": [
    "for file in file_name:\n",
    "    if \".csv\" in file and not os.path.exists(path + \"csv files/\" + file):\n",
    "        shutil.move(path + file, path + \"csv files/\" + file)\n",
    "    elif \".png\" in file and not os.path.exists(path + \"image files/\" + file):\n",
    "        shutil.move(path + file, path + \"image files/\" + file)\n",
    "    elif \".txt\" in file and not os.path.exists(path + \"text files/\" + file):\n",
    "        shutil.move(path + file, path + \"text files/\" + file)\n",
    "    else:\n",
    "        print(\"There are files in this path that were not moved\")"
   ]
  },
  {
   "cell_type": "code",
   "execution_count": null,
   "id": "3ef25c02",
   "metadata": {},
   "outputs": [],
   "source": []
  }
 ],
 "metadata": {
  "kernelspec": {
   "display_name": "Python 3 (ipykernel)",
   "language": "python",
   "name": "python3"
  },
  "language_info": {
   "codemirror_mode": {
    "name": "ipython",
    "version": 3
   },
   "file_extension": ".py",
   "mimetype": "text/x-python",
   "name": "python",
   "nbconvert_exporter": "python",
   "pygments_lexer": "ipython3",
   "version": "3.11.4"
  }
 },
 "nbformat": 4,
 "nbformat_minor": 5
}
